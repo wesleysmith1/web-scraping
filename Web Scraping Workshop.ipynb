{
 "cells": [
  {
   "cell_type": "markdown",
   "id": "6b37dcef",
   "metadata": {},
   "source": [
    "# Web Scraping"
   ]
  },
  {
   "cell_type": "markdown",
   "id": "6c0c0775",
   "metadata": {},
   "source": [
    "\"Web scraping, web harvesting, or web data extraction is data scraping used for extracting data from websites. The web scraping software may directly access the World Wide Web using the Hypertext Transfer Protocol or a web browser. While web scraping can be done manually by a software user, the term typically refers to automated processes implemented using a bot or web crawler. It is a form of copying in which specific data is gathered and copied from the web, typically into a central local database or spreadsheet, for later retrieval or analysis.\" -Wikipedia"
   ]
  },
  {
   "cell_type": "markdown",
   "id": "53b18336",
   "metadata": {},
   "source": [
    "# Legality of Web Scraping"
   ]
  },
  {
   "cell_type": "markdown",
   "id": "a21d2ab8",
   "metadata": {},
   "source": [
    "https://www.tutorialspoint.com/python_web_scraping/legality_of_python_web_scraping.htm"
   ]
  },
  {
   "cell_type": "markdown",
   "id": "710d649c",
   "metadata": {},
   "source": [
    "### What are the components of a Web Page?"
   ]
  },
  {
   "cell_type": "markdown",
   "id": "7c4bb21d",
   "metadata": {},
   "source": [
    "- html\n",
    "- javascript\n",
    "- css\n",
    "- images"
   ]
  },
  {
   "cell_type": "markdown",
   "id": "a6dea309",
   "metadata": {},
   "source": [
    "# Requests module"
   ]
  },
  {
   "cell_type": "code",
   "execution_count": 1,
   "id": "242bbd8e",
   "metadata": {},
   "outputs": [],
   "source": [
    "import requests"
   ]
  },
  {
   "cell_type": "markdown",
   "id": "6427bf47",
   "metadata": {},
   "source": [
    "### getting html from a website"
   ]
  },
  {
   "cell_type": "code",
   "execution_count": 77,
   "id": "f533cd27",
   "metadata": {},
   "outputs": [
    {
     "name": "stdout",
     "output_type": "stream",
     "text": [
      "b'<!DOCTYPE html>\\n<html>\\n<body>\\n\\n<h1>This is a Test Page</h1>\\n\\n</body>\\n</html>'\n"
     ]
    }
   ],
   "source": [
    "page = requests.get('https://w3schools.com/python/demopage.htm')\n",
    "\n",
    "print(page.content)"
   ]
  },
  {
   "cell_type": "markdown",
   "id": "6fc65e50",
   "metadata": {},
   "source": [
    "## Beautiful Soup for parsing"
   ]
  },
  {
   "cell_type": "code",
   "execution_count": 62,
   "id": "bf112442",
   "metadata": {},
   "outputs": [
    {
     "data": {
      "text/plain": [
       "bs4.BeautifulSoup"
      ]
     },
     "execution_count": 62,
     "metadata": {},
     "output_type": "execute_result"
    }
   ],
   "source": [
    "from bs4 import BeautifulSoup"
   ]
  },
  {
   "cell_type": "code",
   "execution_count": 66,
   "id": "bdd5b6fd",
   "metadata": {},
   "outputs": [],
   "source": [
    "soup = BeautifulSoup(page.content, 'html.parser')"
   ]
  },
  {
   "cell_type": "code",
   "execution_count": 69,
   "id": "352b3c4c",
   "metadata": {},
   "outputs": [
    {
     "name": "stdout",
     "output_type": "stream",
     "text": [
      "<!DOCTYPE html>\n",
      "<html>\n",
      " <body>\n",
      "  <h1>\n",
      "   This is a Test Page\n",
      "  </h1>\n",
      " </body>\n",
      "</html>\n"
     ]
    }
   ],
   "source": [
    "print(soup.prettify())"
   ]
  },
  {
   "cell_type": "code",
   "execution_count": 76,
   "id": "de98ecda",
   "metadata": {},
   "outputs": [
    {
     "data": {
      "text/plain": [
       "'This is a Test Page'"
      ]
     },
     "execution_count": 76,
     "metadata": {},
     "output_type": "execute_result"
    }
   ],
   "source": [
    "soup.find_all('h1')[0].get_text()"
   ]
  },
  {
   "cell_type": "markdown",
   "id": "e09c7032",
   "metadata": {},
   "source": [
    "### Selecting Elements"
   ]
  },
  {
   "cell_type": "markdown",
   "id": "137063fe",
   "metadata": {},
   "source": [
    "https://www.w3schools.com/cssref/css_selectors.asp"
   ]
  },
  {
   "cell_type": "code",
   "execution_count": 109,
   "id": "51640d08",
   "metadata": {},
   "outputs": [],
   "source": [
    "# how can we get items from every page?\n",
    "index = 0\n",
    "site = f\"https://www.opencodez.com/page/{index}/\""
   ]
  },
  {
   "cell_type": "code",
   "execution_count": 110,
   "id": "7e562911",
   "metadata": {},
   "outputs": [],
   "source": [
    "page = requests.get(site)\n",
    "soup = BeautifulSoup(page.content, 'html.parser')"
   ]
  },
  {
   "cell_type": "code",
   "execution_count": 111,
   "id": "42b2bf27",
   "metadata": {},
   "outputs": [
    {
     "data": {
      "text/plain": [
       "'\\nAs we know Python and Java, Both the languages are powerful and both the languages provide many great frameworks. But the question is when to use which language? So, in '"
      ]
     },
     "execution_count": 111,
     "metadata": {},
     "output_type": "execute_result"
    }
   ],
   "source": [
    "x = soup.select('p')[0].text\n",
    "x"
   ]
  },
  {
   "cell_type": "markdown",
   "id": "e8716a28",
   "metadata": {},
   "source": [
    "### Pagination"
   ]
  },
  {
   "cell_type": "markdown",
   "id": "6f601522",
   "metadata": {},
   "source": [
    "?"
   ]
  },
  {
   "cell_type": "markdown",
   "id": "ed5c9e03",
   "metadata": {},
   "source": [
    "## Connecting to an api"
   ]
  },
  {
   "cell_type": "markdown",
   "id": "ff6bd6cf",
   "metadata": {},
   "source": [
    "https://www.coinlore.com/cryptocurrency-data-api"
   ]
  },
  {
   "cell_type": "markdown",
   "id": "488975c7",
   "metadata": {},
   "source": [
    "### What is JSON\n",
    "https://www.w3schools.com/whatis/whatis_json.asp"
   ]
  },
  {
   "cell_type": "code",
   "execution_count": 87,
   "id": "6e672df3",
   "metadata": {},
   "outputs": [
    {
     "data": {
      "text/plain": [
       "[{'id': '90',\n",
       "  'symbol': 'BTC',\n",
       "  'name': 'Bitcoin',\n",
       "  'nameid': 'bitcoin',\n",
       "  'rank': 1,\n",
       "  'price_usd': '40427.33',\n",
       "  'percent_change_24h': '1.06',\n",
       "  'percent_change_1h': '0.23',\n",
       "  'percent_change_7d': '-7.35',\n",
       "  'market_cap_usd': '768397232182.58',\n",
       "  'volume24': '15162846598.53',\n",
       "  'volume24_native': '375064.29',\n",
       "  'csupply': '19006877.00',\n",
       "  'price_btc': '1.00',\n",
       "  'tsupply': '19006877',\n",
       "  'msupply': '21000000'}]"
      ]
     },
     "execution_count": 87,
     "metadata": {},
     "output_type": "execute_result"
    }
   ],
   "source": [
    "btc_data = requests.get('https://api.coinlore.net/api/ticker/?id=90')\n",
    "btc_data.json()"
   ]
  },
  {
   "cell_type": "markdown",
   "id": "533306a9",
   "metadata": {},
   "source": [
    "## Using pandas to pull table data from a website"
   ]
  },
  {
   "cell_type": "code",
   "execution_count": 52,
   "id": "1c8de0f3",
   "metadata": {},
   "outputs": [],
   "source": [
    "import pandas as pd"
   ]
  },
  {
   "cell_type": "code",
   "execution_count": null,
   "id": "53971fd1",
   "metadata": {},
   "outputs": [],
   "source": [
    "import lxml"
   ]
  },
  {
   "cell_type": "code",
   "execution_count": 53,
   "id": "6df0c9ec",
   "metadata": {},
   "outputs": [],
   "source": [
    "oscar_data = pd.read_html('https://en.wikipedia.org/wiki/Academy_Award_for_Best_Picture')"
   ]
  },
  {
   "cell_type": "markdown",
   "id": "4243e590",
   "metadata": {},
   "source": [
    "#### Production companies with multiple nominations and wins"
   ]
  },
  {
   "cell_type": "code",
   "execution_count": 54,
   "id": "f8c57d5d",
   "metadata": {},
   "outputs": [
    {
     "data": {
      "text/html": [
       "<div>\n",
       "<style scoped>\n",
       "    .dataframe tbody tr th:only-of-type {\n",
       "        vertical-align: middle;\n",
       "    }\n",
       "\n",
       "    .dataframe tbody tr th {\n",
       "        vertical-align: top;\n",
       "    }\n",
       "\n",
       "    .dataframe thead th {\n",
       "        text-align: right;\n",
       "    }\n",
       "</style>\n",
       "<table border=\"1\" class=\"dataframe\">\n",
       "  <thead>\n",
       "    <tr style=\"text-align: right;\">\n",
       "      <th></th>\n",
       "      <th>Production Company</th>\n",
       "      <th>Nominations</th>\n",
       "      <th>Wins</th>\n",
       "    </tr>\n",
       "  </thead>\n",
       "  <tbody>\n",
       "    <tr>\n",
       "      <th>0</th>\n",
       "      <td>20th Century Studios</td>\n",
       "      <td>62</td>\n",
       "      <td>9</td>\n",
       "    </tr>\n",
       "    <tr>\n",
       "      <th>1</th>\n",
       "      <td>Columbia Pictures</td>\n",
       "      <td>56</td>\n",
       "      <td>12</td>\n",
       "    </tr>\n",
       "    <tr>\n",
       "      <th>2</th>\n",
       "      <td>Metro-Goldwyn-Mayer</td>\n",
       "      <td>40</td>\n",
       "      <td>9</td>\n",
       "    </tr>\n",
       "    <tr>\n",
       "      <th>3</th>\n",
       "      <td>Universal Pictures</td>\n",
       "      <td>34</td>\n",
       "      <td>9</td>\n",
       "    </tr>\n",
       "    <tr>\n",
       "      <th>4</th>\n",
       "      <td>Warner Bros. Pictures</td>\n",
       "      <td>25</td>\n",
       "      <td>9</td>\n",
       "    </tr>\n",
       "    <tr>\n",
       "      <th>5</th>\n",
       "      <td>Paramount Pictures</td>\n",
       "      <td>20</td>\n",
       "      <td>11</td>\n",
       "    </tr>\n",
       "    <tr>\n",
       "      <th>6</th>\n",
       "      <td>Searchlight Pictures</td>\n",
       "      <td>19</td>\n",
       "      <td>5</td>\n",
       "    </tr>\n",
       "    <tr>\n",
       "      <th>7</th>\n",
       "      <td>Miramax Films</td>\n",
       "      <td>15</td>\n",
       "      <td>4</td>\n",
       "    </tr>\n",
       "    <tr>\n",
       "      <th>8</th>\n",
       "      <td>DreamWorks</td>\n",
       "      <td>13</td>\n",
       "      <td>4</td>\n",
       "    </tr>\n",
       "    <tr>\n",
       "      <th>9</th>\n",
       "      <td>RKO Pictures</td>\n",
       "      <td>11</td>\n",
       "      <td>1</td>\n",
       "    </tr>\n",
       "    <tr>\n",
       "      <th>10</th>\n",
       "      <td>Focus Features</td>\n",
       "      <td>10</td>\n",
       "      <td>0</td>\n",
       "    </tr>\n",
       "    <tr>\n",
       "      <th>11</th>\n",
       "      <td>Plan B Entertainment</td>\n",
       "      <td>8</td>\n",
       "      <td>3</td>\n",
       "    </tr>\n",
       "    <tr>\n",
       "      <th>12</th>\n",
       "      <td>Samuel Goldwyn Productions</td>\n",
       "      <td>8</td>\n",
       "      <td>1</td>\n",
       "    </tr>\n",
       "    <tr>\n",
       "      <th>13</th>\n",
       "      <td>Netflix</td>\n",
       "      <td>7</td>\n",
       "      <td>0</td>\n",
       "    </tr>\n",
       "    <tr>\n",
       "      <th>14</th>\n",
       "      <td>Orion Pictures</td>\n",
       "      <td>6</td>\n",
       "      <td>4</td>\n",
       "    </tr>\n",
       "    <tr>\n",
       "      <th>15</th>\n",
       "      <td>Touchstone Pictures</td>\n",
       "      <td>6</td>\n",
       "      <td>0</td>\n",
       "    </tr>\n",
       "    <tr>\n",
       "      <th>16</th>\n",
       "      <td>The Weinstein Company</td>\n",
       "      <td>6</td>\n",
       "      <td>2</td>\n",
       "    </tr>\n",
       "    <tr>\n",
       "      <th>17</th>\n",
       "      <td>Selznick International Pictures</td>\n",
       "      <td>5</td>\n",
       "      <td>2</td>\n",
       "    </tr>\n",
       "    <tr>\n",
       "      <th>18</th>\n",
       "      <td>Annapurna Pictures</td>\n",
       "      <td>5</td>\n",
       "      <td>0</td>\n",
       "    </tr>\n",
       "    <tr>\n",
       "      <th>19</th>\n",
       "      <td>A24</td>\n",
       "      <td>4</td>\n",
       "      <td>1</td>\n",
       "    </tr>\n",
       "    <tr>\n",
       "      <th>20</th>\n",
       "      <td>Walt Disney Pictures</td>\n",
       "      <td>4</td>\n",
       "      <td>0</td>\n",
       "    </tr>\n",
       "    <tr>\n",
       "      <th>21</th>\n",
       "      <td>J. Arthur Rank-Two Cities Films</td>\n",
       "      <td>3</td>\n",
       "      <td>1</td>\n",
       "    </tr>\n",
       "    <tr>\n",
       "      <th>22</th>\n",
       "      <td>New Line Cinema</td>\n",
       "      <td>3</td>\n",
       "      <td>1</td>\n",
       "    </tr>\n",
       "    <tr>\n",
       "      <th>23</th>\n",
       "      <td>Cosmopolitan</td>\n",
       "      <td>3</td>\n",
       "      <td>0</td>\n",
       "    </tr>\n",
       "    <tr>\n",
       "      <th>24</th>\n",
       "      <td>Amazon Studios</td>\n",
       "      <td>2</td>\n",
       "      <td>0</td>\n",
       "    </tr>\n",
       "    <tr>\n",
       "      <th>25</th>\n",
       "      <td>Pixar Animation Studios</td>\n",
       "      <td>2</td>\n",
       "      <td>0</td>\n",
       "    </tr>\n",
       "    <tr>\n",
       "      <th>26</th>\n",
       "      <td>Hollywood Pictures</td>\n",
       "      <td>2</td>\n",
       "      <td>0</td>\n",
       "    </tr>\n",
       "    <tr>\n",
       "      <th>27</th>\n",
       "      <td>The Caddo Company</td>\n",
       "      <td>2</td>\n",
       "      <td>0</td>\n",
       "    </tr>\n",
       "    <tr>\n",
       "      <th>28</th>\n",
       "      <td>Walter Wanger (production company)</td>\n",
       "      <td>2</td>\n",
       "      <td>0</td>\n",
       "    </tr>\n",
       "    <tr>\n",
       "      <th>29</th>\n",
       "      <td>Mercury</td>\n",
       "      <td>2</td>\n",
       "      <td>0</td>\n",
       "    </tr>\n",
       "    <tr>\n",
       "      <th>30</th>\n",
       "      <td>Apple</td>\n",
       "      <td>1</td>\n",
       "      <td>1</td>\n",
       "    </tr>\n",
       "    <tr>\n",
       "      <th>31</th>\n",
       "      <td>Neon</td>\n",
       "      <td>1</td>\n",
       "      <td>1</td>\n",
       "    </tr>\n",
       "  </tbody>\n",
       "</table>\n",
       "</div>"
      ],
      "text/plain": [
       "                    Production Company  Nominations  Wins\n",
       "0                 20th Century Studios           62     9\n",
       "1                    Columbia Pictures           56    12\n",
       "2                  Metro-Goldwyn-Mayer           40     9\n",
       "3                   Universal Pictures           34     9\n",
       "4                Warner Bros. Pictures           25     9\n",
       "5                   Paramount Pictures           20    11\n",
       "6                 Searchlight Pictures           19     5\n",
       "7                        Miramax Films           15     4\n",
       "8                           DreamWorks           13     4\n",
       "9                         RKO Pictures           11     1\n",
       "10                      Focus Features           10     0\n",
       "11                Plan B Entertainment            8     3\n",
       "12          Samuel Goldwyn Productions            8     1\n",
       "13                             Netflix            7     0\n",
       "14                      Orion Pictures            6     4\n",
       "15                 Touchstone Pictures            6     0\n",
       "16               The Weinstein Company            6     2\n",
       "17     Selznick International Pictures            5     2\n",
       "18                  Annapurna Pictures            5     0\n",
       "19                                 A24            4     1\n",
       "20                Walt Disney Pictures            4     0\n",
       "21     J. Arthur Rank-Two Cities Films            3     1\n",
       "22                     New Line Cinema            3     1\n",
       "23                        Cosmopolitan            3     0\n",
       "24                      Amazon Studios            2     0\n",
       "25             Pixar Animation Studios            2     0\n",
       "26                  Hollywood Pictures            2     0\n",
       "27                   The Caddo Company            2     0\n",
       "28  Walter Wanger (production company)            2     0\n",
       "29                             Mercury            2     0\n",
       "30                               Apple            1     1\n",
       "31                                Neon            1     1"
      ]
     },
     "execution_count": 54,
     "metadata": {},
     "output_type": "execute_result"
    }
   ],
   "source": [
    "oscar_data[14]"
   ]
  },
  {
   "cell_type": "code",
   "execution_count": null,
   "id": "850cdf9a",
   "metadata": {},
   "outputs": [],
   "source": []
  }
 ],
 "metadata": {
  "kernelspec": {
   "display_name": "Python 3 (ipykernel)",
   "language": "python",
   "name": "python3"
  },
  "language_info": {
   "codemirror_mode": {
    "name": "ipython",
    "version": 3
   },
   "file_extension": ".py",
   "mimetype": "text/x-python",
   "name": "python",
   "nbconvert_exporter": "python",
   "pygments_lexer": "ipython3",
   "version": "3.8.13"
  }
 },
 "nbformat": 4,
 "nbformat_minor": 5
}
